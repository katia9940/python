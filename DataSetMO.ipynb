{
  "nbformat": 4,
  "nbformat_minor": 0,
  "metadata": {
    "colab": {
      "provenance": [],
      "authorship_tag": "ABX9TyOnbl2yoFS4Y3TNJx1utsaj",
      "include_colab_link": true
    },
    "kernelspec": {
      "name": "python3",
      "display_name": "Python 3"
    },
    "language_info": {
      "name": "python"
    }
  },
  "cells": [
    {
      "cell_type": "markdown",
      "metadata": {
        "id": "view-in-github",
        "colab_type": "text"
      },
      "source": [
        "<a href=\"https://colab.research.google.com/github/katia9940/python/blob/main/DataSetMO.ipynb\" target=\"_parent\"><img src=\"https://colab.research.google.com/assets/colab-badge.svg\" alt=\"Open In Colab\"/></a>"
      ]
    },
    {
      "cell_type": "code",
      "execution_count": 1,
      "metadata": {
        "colab": {
          "base_uri": "https://localhost:8080/",
          "height": 35
        },
        "id": "gUd0mOJ11YTI",
        "outputId": "5581e0d9-a1f4-4d9e-a786-61dbb9479f64"
      },
      "outputs": [
        {
          "output_type": "stream",
          "name": "stdout",
          "text": [
            " Fichier 'dataset_500MB.csv' généré avec succès (457.90 Mo)\n"
          ]
        },
        {
          "output_type": "display_data",
          "data": {
            "text/plain": [
              "<IPython.core.display.Javascript object>"
            ],
            "application/javascript": [
              "\n",
              "    async function download(id, filename, size) {\n",
              "      if (!google.colab.kernel.accessAllowed) {\n",
              "        return;\n",
              "      }\n",
              "      const div = document.createElement('div');\n",
              "      const label = document.createElement('label');\n",
              "      label.textContent = `Downloading \"${filename}\": `;\n",
              "      div.appendChild(label);\n",
              "      const progress = document.createElement('progress');\n",
              "      progress.max = size;\n",
              "      div.appendChild(progress);\n",
              "      document.body.appendChild(div);\n",
              "\n",
              "      const buffers = [];\n",
              "      let downloaded = 0;\n",
              "\n",
              "      const channel = await google.colab.kernel.comms.open(id);\n",
              "      // Send a message to notify the kernel that we're ready.\n",
              "      channel.send({})\n",
              "\n",
              "      for await (const message of channel.messages) {\n",
              "        // Send a message to notify the kernel that we're ready.\n",
              "        channel.send({})\n",
              "        if (message.buffers) {\n",
              "          for (const buffer of message.buffers) {\n",
              "            buffers.push(buffer);\n",
              "            downloaded += buffer.byteLength;\n",
              "            progress.value = downloaded;\n",
              "          }\n",
              "        }\n",
              "      }\n",
              "      const blob = new Blob(buffers, {type: 'application/binary'});\n",
              "      const a = document.createElement('a');\n",
              "      a.href = window.URL.createObjectURL(blob);\n",
              "      a.download = filename;\n",
              "      div.appendChild(a);\n",
              "      a.click();\n",
              "      div.remove();\n",
              "    }\n",
              "  "
            ]
          },
          "metadata": {}
        },
        {
          "output_type": "display_data",
          "data": {
            "text/plain": [
              "<IPython.core.display.Javascript object>"
            ],
            "application/javascript": [
              "download(\"download_85e4d46f-7626-413b-a2b5-2c555c9e2909\", \"dataset_500MB.csv\", 480144913)"
            ]
          },
          "metadata": {}
        }
      ],
      "source": [
        "# 1. Importer les bibliothèques nécessaires\n",
        "import csv\n",
        "import random\n",
        "import string\n",
        "import os\n",
        "from google.colab import files\n",
        "\n",
        "# 2. Fonction pour générer une chaîne aléatoire\n",
        "def random_string(length):\n",
        "    return ''.join(random.choices(string.ascii_letters + string.digits, k=length))\n",
        "\n",
        "#  3. Paramètres du fichier\n",
        "file_name = \"dataset_500MB.csv\"\n",
        "target_size_mb = 500\n",
        "approx_line_size_kb = 1  # chaque ligne ~1 Ko\n",
        "num_lines = (target_size_mb * 1024) // approx_line_size_kb\n",
        "\n",
        "#  4. Génération du fichier CSV\n",
        "with open(file_name, \"w\", newline='', encoding=\"utf-8\") as csvfile:\n",
        "    writer = csv.writer(csvfile)\n",
        "    writer.writerow([\"ID\", \"Name\", \"Email\", \"Comment\"])  # en-têtes\n",
        "\n",
        "    for i in range(int(num_lines)):\n",
        "        name = random_string(10)\n",
        "        email = f\"{random_string(5)}@example.com\"\n",
        "        comment = random_string(900)  # pour gonfler la taille\n",
        "        writer.writerow([i, name, email, comment])\n",
        "\n",
        "#  5. Vérifier la taille du fichier\n",
        "file_size_mb = os.path.getsize(file_name) / (1024 * 1024)\n",
        "print(f\" Fichier '{file_name}' généré avec succès ({file_size_mb:.2f} Mo)\")\n",
        "\n",
        "# ⬇ 6. Proposer le téléchargement du fichier\n",
        "files.download(file_name)\n"
      ]
    },
    {
      "cell_type": "code",
      "source": [],
      "metadata": {
        "id": "Guv21f-t5KJv"
      },
      "execution_count": 2,
      "outputs": []
    }
  ]
}